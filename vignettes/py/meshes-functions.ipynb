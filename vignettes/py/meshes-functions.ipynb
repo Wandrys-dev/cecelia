{
 "cells": [
  {
   "cell_type": "code",
   "execution_count": 1,
   "id": "a2fc902c",
   "metadata": {},
   "outputs": [],
   "source": [
    "import os\n",
    "import numpy as np\n",
    "# import working directory to check functions\n",
    "os.chdir('/Users/schiend/Desktop/DOHERTY/R-workspace/cecelia/inst')\n",
    "\n",
    "# config\n",
    "import py.config_utils as cfg\n",
    "\n",
    "%load_ext autoreload\n",
    "%autoreload 2"
   ]
  },
  {
   "cell_type": "code",
   "execution_count": 2,
   "id": "8f75f4eb",
   "metadata": {},
   "outputs": [],
   "source": [
    "base_dir = '/Volumes/Analysis_SSD/Dominik/cecelia/projects/8BR53W/ANALYSIS/'\n",
    "zero_dir = os.path.join(base_dir, '0/SSmEIR/')\n",
    "#im_path = os.path.join(zero_dir, 'ccidImage.ome.zarr')\n",
    "im_path = os.path.join(zero_dir, 'ccidCorrected.zarr')\n",
    "version_num = 1\n",
    "task_dir = os.path.join(base_dir, str(version_num), 'SSmEIR')"
   ]
  },
  {
   "cell_type": "code",
   "execution_count": 3,
   "id": "96788271",
   "metadata": {},
   "outputs": [
    {
     "name": "stderr",
     "output_type": "stream",
     "text": [
      "Could not find Java JRE compatible with x86_64 architecture\n"
     ]
    }
   ],
   "source": [
    "from py.napari_utils import NapariUtils\n",
    "\n",
    "napari_utils = NapariUtils()\n",
    "napari_utils.viewer = None\n",
    "napari_utils.open_viewer()\n",
    "napari_utils.task_dir = task_dir"
   ]
  },
  {
   "cell_type": "code",
   "execution_count": 4,
   "id": "75724ef2",
   "metadata": {},
   "outputs": [],
   "source": [
    "channel_names = [\n",
    "    'EB', 'T-A', 'T-B', 'AF', 'gen'\n",
    "]"
   ]
  },
  {
   "cell_type": "code",
   "execution_count": 5,
   "id": "10e3e72e",
   "metadata": {},
   "outputs": [],
   "source": [
    "napari_utils.open_image(\n",
    "    im_path,\n",
    "    use_channel_axis = True, as_dask = True,\n",
    "    channel_names = channel_names,\n",
    "    downsample_z = False\n",
    ")"
   ]
  },
  {
   "cell_type": "code",
   "execution_count": 45,
   "id": "4181f11d",
   "metadata": {},
   "outputs": [
    {
     "name": "stdout",
     "output_type": "stream",
     "text": [
      "{'base': '/Volumes/Analysis_SSD/Dominik/cecelia/projects/8BR53W/ANALYSIS/1/SSmEIR/labels/T.zarr'}\n",
      "{'base': '/Volumes/Analysis_SSD/Dominik/cecelia/projects/8BR53W/ANALYSIS/1/SSmEIR/labels/LV.zarr'}\n"
     ]
    }
   ],
   "source": [
    "napari_utils.show_labels_all(\n",
    "    show_labels = True,\n",
    "    show_points = False,\n",
    "    show_tracks = True,\n",
    "    value_names = ['T', 'LV']\n",
    ")"
   ]
  },
  {
   "cell_type": "code",
   "execution_count": 9,
   "id": "a6ab6541",
   "metadata": {},
   "outputs": [],
   "source": [
    "import trimesh\n",
    "from collections import Counter\n",
    "import re\n",
    "import pandas as pd\n",
    "import numpy as np\n",
    "from tqdm import tqdm\n",
    "\n",
    "from py.label_props_utils import LabelPropsUtils\n",
    "from py.pop_utils import PopUtils\n",
    "\n",
    "import py.morpho_utils as morpho_utils\n",
    "import py.slice_utils as slice_utils\n",
    "\n",
    "import py.script_utils as script_utils\n",
    "import py.config_utils as cfg"
   ]
  },
  {
   "cell_type": "code",
   "execution_count": 10,
   "id": "8630ad98",
   "metadata": {},
   "outputs": [],
   "source": [
    "pops_a = ['T/tracked']\n",
    "pops_b = ['LV/tracked']"
   ]
  },
  {
   "cell_type": "code",
   "execution_count": 11,
   "id": "cf7076a4",
   "metadata": {},
   "outputs": [],
   "source": [
    "# init pop utils\n",
    "pop_utils = PopUtils()"
   ]
  },
  {
   "cell_type": "code",
   "execution_count": 12,
   "id": "099dd838",
   "metadata": {},
   "outputs": [],
   "source": [
    "# prepare bbox and centroid axis\n",
    "bbox_axis = ['x', 'y', 'z']\n",
    "centroid_axis = bbox_axis\n",
    "\n",
    "# prepare property columns to get\n",
    "prop_cols = [f'bbox_{side}_{axis}' for side in ['min', 'max'] for axis in bbox_axis]\n",
    "prop_cols.extend([f'centroid_{axis}' for axis in centroid_axis])"
   ]
  },
  {
   "cell_type": "code",
   "execution_count": 13,
   "id": "8a801054",
   "metadata": {},
   "outputs": [],
   "source": [
    "pop_df_a = pop_utils.pop_df(\n",
    "    task_dir,\n",
    "    LabelPropsUtils(task_dir),\n",
    "    'live',\n",
    "    cols = prop_cols,\n",
    "    pops = pops_a\n",
    ")"
   ]
  },
  {
   "cell_type": "code",
   "execution_count": 14,
   "id": "3bb1e60e",
   "metadata": {},
   "outputs": [],
   "source": [
    "# get contact populations\n",
    "pop_df_b = pop_utils.pop_df(\n",
    "    task_dir,\n",
    "    LabelPropsUtils(task_dir),\n",
    "    'live',\n",
    "    cols = prop_cols,\n",
    "    pops = pops_b\n",
    ")\n"
   ]
  },
  {
   "cell_type": "code",
   "execution_count": 17,
   "id": "fe5cfb41",
   "metadata": {},
   "outputs": [
    {
     "data": {
      "text/plain": [
       "{'z': 2.099992309064516, 'y': 1.516634765625, 'x': 1.516634765625}"
      ]
     },
     "execution_count": 17,
     "metadata": {},
     "output_type": "execute_result"
    }
   ],
   "source": [
    "im_res = napari_utils.dim_utils.im_scale(\n",
    "    as_dict = True, upper = False,\n",
    "    dims = ['z', 'y', 'x']\n",
    ")\n",
    "im_res"
   ]
  },
  {
   "cell_type": "code",
   "execution_count": 20,
   "id": "8e2e0c6f",
   "metadata": {},
   "outputs": [
    {
     "name": "stdout",
     "output_type": "stream",
     "text": [
      ">> get meshes for centroid_t 38\n",
      ">> get meshes for centroid_t 38\n"
     ]
    }
   ],
   "source": [
    "# load meshes\n",
    "meshes_a = morpho_utils.df_to_meshes(\n",
    "    task_dir,\n",
    "    pop_df_a, 'T',\n",
    "    'centroid_t',\n",
    "    [38],\n",
    "    im_res = im_res, is_3D = True,\n",
    "    add_value_name_to_name = False)\n",
    "meshes_b = morpho_utils.df_to_meshes(\n",
    "    task_dir,\n",
    "    pop_df_b, 'LV',\n",
    "    'centroid_t',\n",
    "    [38],\n",
    "    im_res = im_res, is_3D = True,\n",
    "    add_value_name_to_name = False)"
   ]
  },
  {
   "cell_type": "code",
   "execution_count": 29,
   "id": "88d44eaa",
   "metadata": {},
   "outputs": [],
   "source": [
    "# add pop B to collision manager\n",
    "m = trimesh.collision.CollisionManager()\n",
    "\n",
    "for i, x in meshes_b.items():\n",
    "    m.add_object(i, x)"
   ]
  },
  {
   "cell_type": "code",
   "execution_count": 48,
   "id": "4d56d74d",
   "metadata": {},
   "outputs": [
    {
     "data": {
      "text/plain": [
       "4.776129944915805"
      ]
     },
     "execution_count": 48,
     "metadata": {},
     "output_type": "execute_result"
    }
   ],
   "source": [
    "m.min_distance_single(meshes_a[7486], return_name = True)[0]"
   ]
  },
  {
   "cell_type": "code",
   "execution_count": 36,
   "id": "5cebd725",
   "metadata": {},
   "outputs": [
    {
     "name": "stderr",
     "output_type": "stream",
     "text": [
      "Mesh is non-watertight for contained point query!\n"
     ]
    },
    {
     "data": {
      "text/plain": [
       "True"
      ]
     },
     "execution_count": 36,
     "metadata": {},
     "output_type": "execute_result"
    }
   ],
   "source": [
    "# is object within another object?\n",
    "inside_object = False\n",
    "\n",
    "# use convex hull to test location\n",
    "meshes_b[709].convex_hull.contains(meshes_a[7486].vertices).all()"
   ]
  },
  {
   "cell_type": "code",
   "execution_count": 46,
   "id": "0c25786e",
   "metadata": {},
   "outputs": [
    {
     "data": {
      "text/plain": [
       "False"
      ]
     },
     "execution_count": 46,
     "metadata": {},
     "output_type": "execute_result"
    }
   ],
   "source": [
    "meshes_b[709].convex_hull.contains(meshes_a[7403].vertices).all()"
   ]
  },
  {
   "cell_type": "code",
   "execution_count": 43,
   "id": "361a1e07",
   "metadata": {},
   "outputs": [
    {
     "data": {
      "text/plain": [
       "{7331: <trimesh.Trimesh(vertices.shape=(290, 3), faces.shape=(576, 3))>,\n",
       " 7354: <trimesh.Trimesh(vertices.shape=(304, 3), faces.shape=(604, 3))>,\n",
       " 7357: <trimesh.Trimesh(vertices.shape=(358, 3), faces.shape=(712, 3))>,\n",
       " 7358: <trimesh.Trimesh(vertices.shape=(140, 3), faces.shape=(276, 3))>,\n",
       " 7393: <trimesh.Trimesh(vertices.shape=(360, 3), faces.shape=(716, 3))>,\n",
       " 7394: <trimesh.Trimesh(vertices.shape=(280, 3), faces.shape=(556, 3))>,\n",
       " 7395: <trimesh.Trimesh(vertices.shape=(182, 3), faces.shape=(360, 3))>,\n",
       " 7398: <trimesh.Trimesh(vertices.shape=(286, 3), faces.shape=(568, 3))>,\n",
       " 7403: <trimesh.Trimesh(vertices.shape=(412, 3), faces.shape=(820, 3))>,\n",
       " 7408: <trimesh.Trimesh(vertices.shape=(368, 3), faces.shape=(732, 3))>,\n",
       " 7409: <trimesh.Trimesh(vertices.shape=(282, 3), faces.shape=(560, 3))>,\n",
       " 7410: <trimesh.Trimesh(vertices.shape=(258, 3), faces.shape=(512, 3))>,\n",
       " 7412: <trimesh.Trimesh(vertices.shape=(265, 3), faces.shape=(530, 3))>,\n",
       " 7417: <trimesh.Trimesh(vertices.shape=(156, 3), faces.shape=(308, 3))>,\n",
       " 7419: <trimesh.Trimesh(vertices.shape=(258, 3), faces.shape=(516, 3))>,\n",
       " 7420: <trimesh.Trimesh(vertices.shape=(260, 3), faces.shape=(516, 3))>,\n",
       " 7421: <trimesh.Trimesh(vertices.shape=(248, 3), faces.shape=(492, 3))>,\n",
       " 7422: <trimesh.Trimesh(vertices.shape=(150, 3), faces.shape=(296, 3))>,\n",
       " 7425: <trimesh.Trimesh(vertices.shape=(420, 3), faces.shape=(836, 3))>,\n",
       " 7427: <trimesh.Trimesh(vertices.shape=(159, 3), faces.shape=(310, 3))>,\n",
       " 7428: <trimesh.Trimesh(vertices.shape=(240, 3), faces.shape=(476, 3))>,\n",
       " 7429: <trimesh.Trimesh(vertices.shape=(242, 3), faces.shape=(480, 3))>,\n",
       " 7433: <trimesh.Trimesh(vertices.shape=(176, 3), faces.shape=(348, 3))>,\n",
       " 7434: <trimesh.Trimesh(vertices.shape=(193, 3), faces.shape=(386, 3))>,\n",
       " 7435: <trimesh.Trimesh(vertices.shape=(160, 3), faces.shape=(316, 3))>,\n",
       " 7437: <trimesh.Trimesh(vertices.shape=(228, 3), faces.shape=(452, 3))>,\n",
       " 7438: <trimesh.Trimesh(vertices.shape=(234, 3), faces.shape=(464, 3))>,\n",
       " 7439: <trimesh.Trimesh(vertices.shape=(398, 3), faces.shape=(792, 3))>,\n",
       " 7440: <trimesh.Trimesh(vertices.shape=(214, 3), faces.shape=(424, 3))>,\n",
       " 7441: <trimesh.Trimesh(vertices.shape=(214, 3), faces.shape=(424, 3))>,\n",
       " 7443: <trimesh.Trimesh(vertices.shape=(212, 3), faces.shape=(420, 3))>,\n",
       " 7445: <trimesh.Trimesh(vertices.shape=(446, 3), faces.shape=(888, 3))>,\n",
       " 7446: <trimesh.Trimesh(vertices.shape=(246, 3), faces.shape=(488, 3))>,\n",
       " 7447: <trimesh.Trimesh(vertices.shape=(266, 3), faces.shape=(528, 3))>,\n",
       " 7449: <trimesh.Trimesh(vertices.shape=(280, 3), faces.shape=(556, 3))>,\n",
       " 7452: <trimesh.Trimesh(vertices.shape=(180, 3), faces.shape=(356, 3))>,\n",
       " 7453: <trimesh.Trimesh(vertices.shape=(176, 3), faces.shape=(348, 3))>,\n",
       " 7455: <trimesh.Trimesh(vertices.shape=(170, 3), faces.shape=(336, 3))>,\n",
       " 7458: <trimesh.Trimesh(vertices.shape=(286, 3), faces.shape=(568, 3))>,\n",
       " 7459: <trimesh.Trimesh(vertices.shape=(238, 3), faces.shape=(472, 3))>,\n",
       " 7460: <trimesh.Trimesh(vertices.shape=(222, 3), faces.shape=(440, 3))>,\n",
       " 7462: <trimesh.Trimesh(vertices.shape=(314, 3), faces.shape=(624, 3))>,\n",
       " 7463: <trimesh.Trimesh(vertices.shape=(410, 3), faces.shape=(816, 3))>,\n",
       " 7464: <trimesh.Trimesh(vertices.shape=(164, 3), faces.shape=(324, 3))>,\n",
       " 7465: <trimesh.Trimesh(vertices.shape=(114, 3), faces.shape=(224, 3))>,\n",
       " 7466: <trimesh.Trimesh(vertices.shape=(170, 3), faces.shape=(336, 3))>,\n",
       " 7467: <trimesh.Trimesh(vertices.shape=(118, 3), faces.shape=(232, 3))>,\n",
       " 7468: <trimesh.Trimesh(vertices.shape=(188, 3), faces.shape=(372, 3))>,\n",
       " 7471: <trimesh.Trimesh(vertices.shape=(156, 3), faces.shape=(308, 3))>,\n",
       " 7472: <trimesh.Trimesh(vertices.shape=(392, 3), faces.shape=(780, 3))>,\n",
       " 7473: <trimesh.Trimesh(vertices.shape=(114, 3), faces.shape=(224, 3))>,\n",
       " 7475: <trimesh.Trimesh(vertices.shape=(207, 3), faces.shape=(414, 3))>,\n",
       " 7476: <trimesh.Trimesh(vertices.shape=(260, 3), faces.shape=(516, 3))>,\n",
       " 7478: <trimesh.Trimesh(vertices.shape=(207, 3), faces.shape=(414, 3))>,\n",
       " 7480: <trimesh.Trimesh(vertices.shape=(138, 3), faces.shape=(272, 3))>,\n",
       " 7481: <trimesh.Trimesh(vertices.shape=(150, 3), faces.shape=(296, 3))>,\n",
       " 7483: <trimesh.Trimesh(vertices.shape=(146, 3), faces.shape=(288, 3))>,\n",
       " 7485: <trimesh.Trimesh(vertices.shape=(102, 3), faces.shape=(200, 3))>,\n",
       " 7486: <trimesh.Trimesh(vertices.shape=(208, 3), faces.shape=(412, 3))>,\n",
       " 7488: <trimesh.Trimesh(vertices.shape=(198, 3), faces.shape=(392, 3))>,\n",
       " 7489: <trimesh.Trimesh(vertices.shape=(320, 3), faces.shape=(636, 3))>,\n",
       " 7492: <trimesh.Trimesh(vertices.shape=(176, 3), faces.shape=(348, 3))>,\n",
       " 7493: <trimesh.Trimesh(vertices.shape=(192, 3), faces.shape=(380, 3))>,\n",
       " 7494: <trimesh.Trimesh(vertices.shape=(178, 3), faces.shape=(352, 3))>,\n",
       " 7496: <trimesh.Trimesh(vertices.shape=(172, 3), faces.shape=(340, 3))>,\n",
       " 7497: <trimesh.Trimesh(vertices.shape=(246, 3), faces.shape=(488, 3))>,\n",
       " 7498: <trimesh.Trimesh(vertices.shape=(220, 3), faces.shape=(436, 3))>,\n",
       " 7499: <trimesh.Trimesh(vertices.shape=(116, 3), faces.shape=(228, 3))>,\n",
       " 7501: <trimesh.Trimesh(vertices.shape=(176, 3), faces.shape=(348, 3))>,\n",
       " 7502: <trimesh.Trimesh(vertices.shape=(132, 3), faces.shape=(260, 3))>,\n",
       " 7503: <trimesh.Trimesh(vertices.shape=(186, 3), faces.shape=(368, 3))>,\n",
       " 7504: <trimesh.Trimesh(vertices.shape=(230, 3), faces.shape=(456, 3))>,\n",
       " 7505: <trimesh.Trimesh(vertices.shape=(146, 3), faces.shape=(288, 3))>,\n",
       " 7506: <trimesh.Trimesh(vertices.shape=(154, 3), faces.shape=(304, 3))>,\n",
       " 7510: <trimesh.Trimesh(vertices.shape=(124, 3), faces.shape=(244, 3))>,\n",
       " 7511: <trimesh.Trimesh(vertices.shape=(236, 3), faces.shape=(468, 3))>,\n",
       " 7513: <trimesh.Trimesh(vertices.shape=(266, 3), faces.shape=(528, 3))>,\n",
       " 7514: <trimesh.Trimesh(vertices.shape=(184, 3), faces.shape=(364, 3))>,\n",
       " 7516: <trimesh.Trimesh(vertices.shape=(276, 3), faces.shape=(548, 3))>,\n",
       " 7517: <trimesh.Trimesh(vertices.shape=(136, 3), faces.shape=(268, 3))>}"
      ]
     },
     "execution_count": 43,
     "metadata": {},
     "output_type": "execute_result"
    }
   ],
   "source": [
    "meshes_a"
   ]
  },
  {
   "cell_type": "code",
   "execution_count": null,
   "id": "79f17a53",
   "metadata": {},
   "outputs": [],
   "source": []
  }
 ],
 "metadata": {
  "kernelspec": {
   "display_name": "Python 3 (ipykernel)",
   "language": "python",
   "name": "python3"
  },
  "language_info": {
   "codemirror_mode": {
    "name": "ipython",
    "version": 3
   },
   "file_extension": ".py",
   "mimetype": "text/x-python",
   "name": "python",
   "nbconvert_exporter": "python",
   "pygments_lexer": "ipython3",
   "version": "3.9.13"
  }
 },
 "nbformat": 4,
 "nbformat_minor": 5
}
